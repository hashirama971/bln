{
 "cells": [
  {
   "cell_type": "code",
   "execution_count": 2,
   "metadata": {},
   "outputs": [],
   "source": [
    "import numpy as np\n",
    "from anytree import Node\n",
    "from anytree.exporter import DotExporter\n",
    "import math\n"
   ]
  },
  {
   "cell_type": "code",
   "execution_count": 9,
   "metadata": {},
   "outputs": [
    {
     "name": "stdout",
     "output_type": "stream",
     "text": [
      "Number of moves\n",
      "<type 'int'>8\n"
     ]
    }
   ],
   "source": [
    "MAX=1000\n",
    "MIN=-1000\n",
    "print(\"Number of moves\")\n",
    "n = input(int)\n",
    "ascii=64"
   ]
  },
  {
   "cell_type": "code",
   "execution_count": 4,
   "metadata": {},
   "outputs": [],
   "source": [
    "def drawGraph(root,depth,nodeI,values):\n",
    "    global ascii\n",
    "    if depth==math.ceil(math.log(n,2)):\n",
    "        Node(values[nodeI],parent=root)\n",
    "        return\n",
    "    else:\n",
    "        ascii+=1\n",
    "        node1 = Node(chr(ascii),parent=root)\n",
    "        drawGraph(node1,depth+1,nodeI*2,values)\n",
    "        drawGraph(node1,depth+1,nodeI*2+1,values)"
   ]
  },
  {
   "cell_type": "code",
   "execution_count": 5,
   "metadata": {},
   "outputs": [],
   "source": [
    "def alphabeta(root,depth,nodeI,values,maximizingPlayer,alpha,beta):\n",
    "    global ascii\n",
    "    if depth==math.ceil(math.log(n,2)):\n",
    "        Node(values[nodeI],parent=root)\n",
    "        return values[nodeI]\n",
    "    \n",
    "    ascii+=1\n",
    "    node1 = Node(chr(ascii),parent=root)\n",
    "    \n",
    "    if maximizingPlayer:\n",
    "        best = MIN\n",
    "        for i in range(2):\n",
    "            val = alphabeta(node1,depth+1,nodeI*2+i,values,False,alpha,beta)\n",
    "            best = max(val,best)\n",
    "            alpha = max(best,alpha)\n",
    "            if alpha>=beta:\n",
    "                break\n",
    "        return best\n",
    "    else:\n",
    "        best=MAX\n",
    "        for i in range(2):\n",
    "            val = alphabeta(node1,depth+1,nodeI*2+i,values,True,alpha,beta)\n",
    "            best = min(val,best)\n",
    "            beta = min(best,beta)\n",
    "            \n",
    "            if alpha>=beta:\n",
    "                break\n",
    "        \n",
    "        return best"
   ]
  },
  {
   "cell_type": "code",
   "execution_count": 10,
   "metadata": {},
   "outputs": [
    {
     "name": "stdout",
     "output_type": "stream",
     "text": [
      "<type 'int'>3\n",
      "<type 'int'>5\n",
      "<type 'int'>6\n",
      "<type 'int'>9\n",
      "<type 'int'>1\n",
      "<type 'int'>2\n",
      "<type 'int'>0\n",
      "<type 'int'>-1\n"
     ]
    }
   ],
   "source": [
    "values = np.zeros((n))\n",
    "\n",
    "for i in range(n):\n",
    "    values[i] = input(int)\n",
    "\n",
    "values\n",
    "ascii=64\n",
    "n1 = Node(\"Before Pruning\")\n",
    "drawGraph(n1,0,0,values)\n",
    "\n",
    "DotExporter(n1).to_picture(\"before.png\")\n",
    "\n",
    "n2 = Node(\"After Pruning\")\n",
    "ascii=64\n",
    "alphabeta(n2,0,0,values,True,MIN,MAX)\n",
    "\n",
    "DotExporter(n2).to_picture(\"after.png\")\n",
    "#3, 5, 6, 9, 1, 2, 0, -1"
   ]
  },
  {
   "cell_type": "markdown",
   "metadata": {},
   "source": []
  }
 ],
 "metadata": {
  "kernelspec": {
   "display_name": "Python 2",
   "language": "python",
   "name": "python2"
  },
  "language_info": {
   "codemirror_mode": {
    "name": "ipython",
    "version": 2
   },
   "file_extension": ".py",
   "mimetype": "text/x-python",
   "name": "python",
   "nbconvert_exporter": "python",
   "pygments_lexer": "ipython2",
   "version": "2.7.12"
  }
 },
 "nbformat": 4,
 "nbformat_minor": 2
}
